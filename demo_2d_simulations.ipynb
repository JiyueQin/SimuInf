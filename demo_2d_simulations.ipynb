{
 "cells": [
  {
   "cell_type": "code",
   "execution_count": 1,
   "metadata": {
    "colab": {
     "base_uri": "https://localhost:8080/"
    },
    "id": "qBFLOMAs91mm",
    "outputId": "3d448dca-cd5c-4c71-c97e-e7366513cbfb"
   },
   "outputs": [],
   "source": [
    "import pandas as pd\n",
    "from itertools import product\n",
    "from SimuInf.simulation import scb_cover_rate_multiple"
   ]
  },
  {
   "cell_type": "markdown",
   "metadata": {
    "id": "jogzyyjd0p6W"
   },
   "source": [
    "In this notebook, We illustrate how we assessed the performance of different bootstrap methods in constructing **Simultaneous Confidence Bands (SCBs)** via simulations.  \n",
    "In the paper, we varied several parameters — including signal shape, noise distribution, full width at half maximum (FWHM), post-smoothing noise standard deviation, image size, and sample size — resulting in a total of 640 combinations.  \n",
    "For demonstration purposes, we focus on a few representative settings using our recommended bootstrap approach: the **Rademacher multiplier-t** method."
   ]
  },
  {
   "cell_type": "code",
   "execution_count": 5,
   "metadata": {},
   "outputs": [
    {
     "name": "stdout",
     "output_type": "stream",
     "text": [
      "     n    w    h  fwhm_noise    shape  std noise_type noise_df\n",
      "0  100  100  100           4  ellipse   10   gaussian     None\n",
      "1  100  100  100           4  ellipse   10          t     None\n",
      "2  100  100  100           4  ellipse   10      chisq     None\n",
      "3  150  100  100           4  ellipse   10   gaussian     None\n",
      "4  150  100  100           4  ellipse   10          t     None\n",
      "5  150  100  100           4  ellipse   10      chisq     None\n",
      "  boot_data_type   boot_type standardize multiplier\n",
      "0            res  multiplier           t          r\n"
     ]
    }
   ],
   "source": [
    "# create various simulation settings\n",
    "n_ls = [100,150]\n",
    "# note the actual fwhm_noise used is half its input value\n",
    "fwhm_ls = [4]\n",
    "shape_ls = ['ellipse']\n",
    "noise_type_ls = ['gaussian','t', 'chisq']\n",
    "# use None for default values of noise_df, which is 3 for a t distribution and 5 for a chisq distribution \n",
    "noise_df_ls = [None]\n",
    "# simulate settings with 100*100 images and SD of 10\n",
    "setting_df = pd.DataFrame(product(n_ls, [100],[100],fwhm_ls, shape_ls, [10], noise_type_ls, noise_df_ls), \n",
    "                          columns=['n', 'w', 'h', 'fwhm_noise', 'shape', 'std', 'noise_type', 'noise_df'])\n",
    "print(setting_df)\n",
    "# for illustration, use Rademacher multiplier-t, in the paper, we evaluated 6 bootstrap variants\n",
    "method_df = pd.DataFrame(product(['res'], ['multiplier'], ['t'], ['r']), columns=['boot_data_type', 'boot_type', 'standardize', 'multiplier'])\n",
    "print(method_df)\n",
    "\n"
   ]
  },
  {
   "cell_type": "code",
   "execution_count": null,
   "metadata": {},
   "outputs": [],
   "source": [
    "# here use a smaller m_sim and m_boots for illustration, in the paper, m_sim = 1000, m_boots = 1000\n",
    "# this command may take a few mins to complete on a standard laptop\n",
    "simu_df = scb_cover_rate_multiple(setting_df, method_df, \n",
    "                      m_sim=100, alpha=0.05,\n",
    "                      m_boots=100)"
   ]
  }
 ],
 "metadata": {
  "colab": {
   "provenance": []
  },
  "kernelspec": {
   "display_name": "simuinf9",
   "language": "python",
   "name": "python3"
  },
  "language_info": {
   "codemirror_mode": {
    "name": "ipython",
    "version": 3
   },
   "file_extension": ".py",
   "mimetype": "text/x-python",
   "name": "python",
   "nbconvert_exporter": "python",
   "pygments_lexer": "ipython3",
   "version": "3.9.24"
  }
 },
 "nbformat": 4,
 "nbformat_minor": 4
}
