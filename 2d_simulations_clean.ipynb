{
 "cells": [
  {
   "cell_type": "code",
   "execution_count": null,
   "metadata": {
    "colab": {
     "base_uri": "https://localhost:8080/"
    },
    "id": "qBFLOMAs91mm",
    "outputId": "3d448dca-cd5c-4c71-c97e-e7366513cbfb"
   },
   "outputs": [],
   "source": [
    "import numpy as np\n",
    "import pandas as pd\n",
    "from itertools import product\n",
    "from SimuInf.random_field_generator import gen_spec, gen_2D\n",
    "from SimuInf.scb import confband\n",
    "from SimuInf.confset import confset\n",
    "from SimuInf.plotting import ls_plot, confset_plot\n",
    "from SimuInf.simulation import scb_cover_rate_multiple"
   ]
  },
  {
   "cell_type": "markdown",
   "metadata": {},
   "source": [
    "### Introduction\n",
    "This Jupyter notebook demonstrates the usage of the Python package `SimuInf` to obtain **Simultaneous Confidence Regions (SCRs)** for image excursion sets.\n"
   ]
  },
  {
   "cell_type": "markdown",
   "metadata": {},
   "source": [
    "### Example Usage\n",
    "We begin by simulating a sample of two-dimensional random fields with ellipse-shaped signals and computing the SCRs for the excursion sets at thresholds of 2 and 3. A key advantage of SCRs is that they provide valid inference simultaneously across all activation thresholds, allowing you to explore all possible thresholds!"
   ]
  },
  {
   "cell_type": "code",
   "execution_count": null,
   "metadata": {},
   "outputs": [
    {
     "data": {
      "image/png": "[encoded data removed]",
      "text/plain": [
       "<Figure size 600x400 with 2 Axes>"
      ]
     },
     "metadata": {},
     "output_type": "display_data"
    },
    {
     "data": {
      "image/png": "[encoded data removed]",
      "text/plain": [
       "<Figure size 600x800 with 2 Axes>"
      ]
     },
     "metadata": {},
     "output_type": "display_data"
    }
   ],
   "source": [
    "# simulate a sample of 2D random fields with ellipse-shaped signals\n",
    "spec_50, spec_100 = gen_spec(fwhm_sig=10, fwhm_noise=4, std=1, mag=4, r=0.5)\n",
    "data, mu = gen_2D((40,100,100), shape='ellipse', shape_spec=spec_100[1])\n",
    "# plot the ellipse-shaped signal\n",
    "ls_plot([mu], name_ls = ['ellipse signal'], nrow=1, figsize=(6,4), fontsize = 10, colorbar = 'individual', colorbar_location = 'right', ticks = False)\n",
    "\n",
    "# compute the confidence band \n",
    "confband1 = confband(np.moveaxis(data, 0,-1), m_boots=100)\n",
    "# compute the confidence regions (also called confidence sets) using thresholds of 2 and 3\n",
    "confset1 = confset(*confband1, threshold=2)\n",
    "confset2 = confset(*confband1, threshold=3)\n",
    "# plot the results\n",
    "# the red region, union of red and yellow region, union of red and yellow and blue region represent the inner set, estimated set, outer set, respectively.\n",
    "confset_plot([confset1, confset2], name_ls = ['SCR: c=2', 'SCR: c=3'], nrow = 1,\n",
    "             figsize=(6,8), fontsize=10, ticks = False)"
   ]
  },
  {
   "cell_type": "markdown",
   "metadata": {
    "id": "jogzyyjd0p6W"
   },
   "source": [
    "### Simulations to Evaluate the Performance of Various Bootstrap Methods\n",
    "Next, we illustrate how we assessed the performance of different bootstrap methods in constructing **Simultaneous Confidence Bands (SCBs)**.  \n",
    "In the paper, we varied several parameters — including signal shape, noise distribution, full width at half maximum (FWHM), post-smoothing noise standard deviation, image size, and sample size — resulting in a total of 640 combinations.  \n",
    "For demonstration purposes, we focus on a few representative settings using our recommended bootstrap approach: the **Rademacher multiplier-t** method."
   ]
  },
  {
   "cell_type": "code",
   "execution_count": null,
   "metadata": {},
   "outputs": [
    {
     "name": "stdout",
     "output_type": "stream",
     "text": [
      "    n    w    h  fwhm_noise    shape  std noise_type noise_df\n",
      "0  20  100  100           4  ellipse   10   gaussian     None\n",
      "1  20  100  100           4  ellipse   10          t     None\n",
      "2  20  100  100           4  ellipse   10      chisq     None\n",
      "3  40  100  100           4  ellipse   10   gaussian     None\n",
      "4  40  100  100           4  ellipse   10          t     None\n",
      "5  40  100  100           4  ellipse   10      chisq     None\n",
      "6  60  100  100           4  ellipse   10   gaussian     None\n",
      "7  60  100  100           4  ellipse   10          t     None\n",
      "8  60  100  100           4  ellipse   10      chisq     None\n",
      "  boot_data_type   boot_type standardize multiplier\n",
      "0            res  multiplier           t          r\n"
     ]
    }
   ],
   "source": [
    "# create various simulation settings\n",
    "n_ls = [20, 40, 60]\n",
    "# note the actual fwhm_noise used is half its input value\n",
    "fwhm_ls = [4]\n",
    "shape_ls = ['ellipse']\n",
    "noise_type_ls = ['gaussian','t', 'chisq']\n",
    "# use None for default values of noise_df, which is 3 for a t distribution and 5 for a chisq distribution \n",
    "noise_df_ls = [None]\n",
    "# simulate settings with 100*100 images and SD of 10\n",
    "setting_df = pd.DataFrame(product(n_ls, [100],[100],fwhm_ls, shape_ls, [10], noise_type_ls, noise_df_ls), \n",
    "                          columns=['n', 'w', 'h', 'fwhm_noise', 'shape', 'std', 'noise_type', 'noise_df'])\n",
    "print(setting_df)\n",
    "# for illustration, use Rademacher multiplier-t, in the paper, we evaluated 6 bootstrap variants\n",
    "method_df = pd.DataFrame(product(['res'], ['multiplier'], ['t'], ['r']), columns=['boot_data_type', 'boot_type', 'standardize', 'multiplier'])\n",
    "print(method_df)\n",
    "\n"
   ]
  },
  {
   "cell_type": "code",
   "execution_count": null,
   "metadata": {},
   "outputs": [
    {
     "name": "stdout",
     "output_type": "stream",
     "text": [
      "----performing simulation, current setting number: 1, remaining settings: 8----\n",
      "----performing simulation, current setting number: 2, remaining settings: 7----\n",
      "----performing simulation, current setting number: 3, remaining settings: 6----\n",
      "----performing simulation, current setting number: 4, remaining settings: 5----\n",
      "----performing simulation, current setting number: 5, remaining settings: 4----\n",
      "----performing simulation, current setting number: 6, remaining settings: 3----\n",
      "----performing simulation, current setting number: 7, remaining settings: 2----\n",
      "----performing simulation, current setting number: 8, remaining settings: 1----\n",
      "----performing simulation, current setting number: 9, remaining settings: 0----\n",
      "   rate    mean_q      sd_q  runtime_secs  sd_runtime_secs boot_data_type  \\\n",
      "0  0.94  6.191212  0.214103      0.051484         0.008276            res   \n",
      "1  0.92  5.894471  0.187495      0.042347         0.005092            res   \n",
      "2  0.77  6.206921  0.219449      0.083950         0.055961            res   \n",
      "3  0.95  5.248010  0.156168      0.085004         0.037384            res   \n",
      "4  0.93  5.030866  0.118302      0.058814         0.008782            res   \n",
      "5  0.89  5.200768  0.109576      0.058249         0.006742            res   \n",
      "6  0.94  4.963765  0.109468      0.066353         0.007075            res   \n",
      "7  0.92  4.798626  0.127263      0.076823         0.019548            res   \n",
      "8  0.83  4.919627  0.119110      0.069795         0.015012            res   \n",
      "\n",
      "    boot_type standardize multiplier   n  ...    h    shape fwhm_noise  \\\n",
      "0  multiplier           t          r  20  ...  100  ellipse        2.0   \n",
      "1  multiplier           t          r  20  ...  100  ellipse        2.0   \n",
      "2  multiplier           t          r  20  ...  100  ellipse        2.0   \n",
      "3  multiplier           t          r  40  ...  100  ellipse        2.0   \n",
      "4  multiplier           t          r  40  ...  100  ellipse        2.0   \n",
      "5  multiplier           t          r  40  ...  100  ellipse        2.0   \n",
      "6  multiplier           t          r  60  ...  100  ellipse        2.0   \n",
      "7  multiplier           t          r  60  ...  100  ellipse        2.0   \n",
      "8  multiplier           t          r  60  ...  100  ellipse        2.0   \n",
      "\n",
      "   fwhm_signal  std  noise_type noise_df alpha  m_boots  m_sim  \n",
      "0          5.0   10    gaussian     None  0.05      100    100  \n",
      "1          5.0   10           t     None  0.05      100    100  \n",
      "2          5.0   10       chisq     None  0.05      100    100  \n",
      "3          5.0   10    gaussian     None  0.05      100    100  \n",
      "4          5.0   10           t     None  0.05      100    100  \n",
      "5          5.0   10       chisq     None  0.05      100    100  \n",
      "6          5.0   10    gaussian     None  0.05      100    100  \n",
      "7          5.0   10           t     None  0.05      100    100  \n",
      "8          5.0   10       chisq     None  0.05      100    100  \n",
      "\n",
      "[9 rows x 21 columns]\n"
     ]
    }
   ],
   "source": [
    "# here use a smaller m_sim and m_boots for illustration, in the paper, m_sim = 1000, m_boots = 1000\n",
    "# this command takes about 2 mins to complete on a standard laptop\n",
    "simu_df = scb_cover_rate_multiple(setting_df, method_df, \n",
    "                      m_sim=100, alpha=0.05,\n",
    "                      m_boots=100)\n",
    "\n",
    "print(simu_df)"
   ]
  }
 ],
 "metadata": {
  "colab": {
   "provenance": []
  },
  "kernelspec": {
   "display_name": "nilearn",
   "language": "python",
   "name": "python3"
  },
  "language_info": {
   "codemirror_mode": {
    "name": "ipython",
    "version": 3
   },
   "file_extension": ".py",
   "mimetype": "text/x-python",
   "name": "python",
   "nbconvert_exporter": "python",
   "pygments_lexer": "ipython3",
   "version": "3.9.18"
  }
 },
 "nbformat": 4,
 "nbformat_minor": 4
}
