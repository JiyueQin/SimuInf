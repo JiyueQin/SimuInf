{
 "cells": [
  {
   "cell_type": "code",
   "execution_count": null,
   "metadata": {
    "colab": {
     "base_uri": "https://localhost:8080/"
    },
    "id": "qBFLOMAs91mm",
    "outputId": "3d448dca-cd5c-4c71-c97e-e7366513cbfb"
   },
   "outputs": [],
   "source": [
    "import numpy as np\n",
    "import pandas as pd\n",
    "from SimuInf.simulation import scb_cover_rate_multiple\n",
    "from itertools import product"
   ]
  },
  {
   "cell_type": "markdown",
   "metadata": {
    "id": "jogzyyjd0p6W"
   },
   "source": [
    "## Simulations\n",
    "\n"
   ]
  },
  {
   "cell_type": "code",
   "execution_count": null,
   "metadata": {},
   "outputs": [],
   "source": [
    "# create various simulation settings\n",
    "n_ls = [20, 40, 60, 80, 100]\n",
    "# note the actual fwhm_noise used is half its input value\n",
    "#fwhm_ls = [0, 2, 4, 6, 8]\n",
    "fwhm_ls = [4]\n",
    "\n",
    "#shape_ls = ['ellipse','ramp']\n",
    "shape_ls = ['ellipse']\n",
    "noise_type_ls = ['gaussian','t']\n",
    "\n",
    "\n",
    "setting_df = pd.DataFrame(product(n_ls, [100],[100],fwhm_ls, shape_ls, [10], noise_type_ls), columns=['n', 'w', 'h', 'fwhm_noise', 'shape', 'std', 'noise_type'])\n",
    "#print(setting_df)\n",
    "\n",
    "\n",
    "\n",
    "method_df1 = pd.DataFrame(product(['obs', 'res'], ['nonparametric'], ['t', 'z'], ['NA']), columns=['boot_data_type', 'boot_type', 'standardize', 'multiplier'])\n",
    "method_df2 = pd.DataFrame(product(['res'], ['multiplier'], ['t', 'z'], ['r','g']), columns=['boot_data_type', 'boot_type', 'standardize', 'multiplier'])\n",
    "\n",
    "method_df = pd.concat([method_df1, method_df2], ignore_index=True)\n",
    "\n",
    "print(method_df)\n"
   ]
  },
  {
   "cell_type": "code",
   "execution_count": null,
   "metadata": {},
   "outputs": [],
   "source": [
    "simu_df = scb_cover_rate_multiple(setting_df, method_df, \n",
    "                      m_sim=1000, alpha=0.05,\n",
    "                      m_boots=1000)\n",
    "simu_df.to_excel(\"simu_df.xlsx\")  "
   ]
  }
 ],
 "metadata": {
  "colab": {
   "provenance": []
  },
  "kernelspec": {
   "display_name": "Python 3 (ipykernel)",
   "language": "python",
   "name": "python3"
  },
  "language_info": {
   "codemirror_mode": {
    "name": "ipython",
    "version": 3
   },
   "file_extension": ".py",
   "mimetype": "text/x-python",
   "name": "python",
   "nbconvert_exporter": "python",
   "pygments_lexer": "ipython3",
   "version": "3.9.18"
  }
 },
 "nbformat": 4,
 "nbformat_minor": 4
}
