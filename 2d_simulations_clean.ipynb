{
 "cells": [
  {
   "cell_type": "code",
   "execution_count": 1,
   "metadata": {
    "colab": {
     "base_uri": "https://localhost:8080/"
    },
    "id": "qBFLOMAs91mm",
    "outputId": "3d448dca-cd5c-4c71-c97e-e7366513cbfb"
   },
   "outputs": [],
   "source": [
    "# remember to update these from functions from the package for development\n",
    "import numpy as np\n",
    "import pandas as pd\n",
    "import matplotlib.pyplot as plt\n",
    "import matplotlib.cm as cm\n",
    "import matplotlib.colors as colors\n",
    "from matplotlib.colors import Normalize\n",
    "import random\n",
    "import sys\n",
    "import os\n",
    "import math\n",
    "import scipy.stats\n",
    "from tabulate import tabulate\n",
    "import time\n",
    "import joblib\n",
    "\n",
    "\n",
    "from confidenceset.random_field_generator import *\n",
    "from confidenceset.confset import *\n",
    "from confidenceset.plot import *\n",
    "from confidenceset.test import *\n",
    "\n",
    "%load_ext autoreload\n",
    "%autoreload 2"
   ]
  },
  {
   "cell_type": "markdown",
   "metadata": {
    "id": "jogzyyjd0p6W"
   },
   "source": [
    "## Simulations\n",
    "\n"
   ]
  },
  {
   "cell_type": "code",
   "execution_count": null,
   "metadata": {},
   "outputs": [],
   "source": [
    "# create various simulation settings\n",
    "from itertools import product\n",
    "\n",
    "n_ls = [20, 40, 60, 80, 100]\n",
    "fwhm_ls = [0, 2, 4, 6, 8]\n",
    "#shape_ls = ['circular','ellipse','ramp']\n",
    "shape_ls = ['ellipse','ramp']\n",
    "noise_type_ls = ['gaussian','t']\n",
    "\n",
    "# for 50*50, the actual fwhm_noise is half its input value\n",
    "setting_df = pd.DataFrame(product(n_ls, [50],[50],fwhm_ls, shape_ls, [1, 10], noise_type_ls), columns=['n', 'w', 'h', 'fwhm_noise', 'shape', 'std', 'noise_type'])\n",
    "#print(setting_df)\n",
    "\n",
    "setting_df_resting = pd.DataFrame({'subsample_size': [20,40]})\n",
    "print(setting_df_resting)\n",
    "\n",
    "method_df1 = pd.DataFrame(product(['obs', 'res'], ['nonparametric'], ['t', 'z'], ['NA']), columns=['boot_data_type', 'boot_type', 'standardize', 'multiplier'])\n",
    "method_df2 = pd.DataFrame(product(['res'], ['multiplier'], ['t', 'z'], ['r','g']), columns=['boot_data_type', 'boot_type', 'standardize', 'multiplier'])\n",
    "\n",
    "method_df = pd.concat([method_df1, method_df2], ignore_index=True)\n",
    "\n",
    "print(method_df)\n"
   ]
  },
  {
   "cell_type": "code",
   "execution_count": null,
   "metadata": {},
   "outputs": [],
   "source": [
    "from SimuInf.scb import confband\n",
    "from SimuInf.plotting import confset_plot, ls_plot\n",
    "from SimuInf.simulation import scb_cover_rate_multiple"
   ]
  },
  {
   "cell_type": "code",
   "execution_count": null,
   "metadata": {},
   "outputs": [],
   "source": [
    "# more simulations \n",
    "import joblib\n",
    "simu_df_1to30 = scb_cover_rate_multiple(setting_df.iloc[:30], method_df, \n",
    "                      m_sim=1000, alpha=0.05,\n",
    "                      m_boots=1000)\n",
    "joblib.dump(simu_df_1to30, 'results/simu_df_1to30')"
   ]
  },
  {
   "cell_type": "code",
   "execution_count": null,
   "metadata": {},
   "outputs": [],
   "source": [
    "simu_df_1to30 = joblib.load('results/simu_df_1to30')\n",
    "simu_df_1to30"
   ]
  },
  {
   "cell_type": "code",
   "execution_count": null,
   "metadata": {},
   "outputs": [],
   "source": [
    "# more simulations \n",
    "import joblib\n",
    "simu_df_31to200 = scb_cover_rate_multiple(setting_df.iloc[30:], method_df, \n",
    "                      m_sim=1000, alpha=0.05,\n",
    "                      m_boots=1000)\n",
    "#joblib.dump(simu_df_31to200, 'results/simu_df_31to200')"
   ]
  },
  {
   "cell_type": "code",
   "execution_count": null,
   "metadata": {},
   "outputs": [],
   "source": [
    "simu_df_31to200 = joblib.load('results/simu_df_31to200')\n",
    "simu_df_31to200"
   ]
  },
  {
   "cell_type": "code",
   "execution_count": null,
   "metadata": {},
   "outputs": [],
   "source": [
    "# more simulations \n",
    "import joblib\n",
    "simu_df_201to400 = scb_cover_rate_multiple(setting_df2, method_df, \n",
    "                      m_sim=1000, alpha=0.05,\n",
    "                      m_boots=1000)\n",
    "joblib.dump(simu_df_201to400, 'results/simu_df_201to400')"
   ]
  },
  {
   "cell_type": "code",
   "execution_count": null,
   "metadata": {},
   "outputs": [],
   "source": [
    "simu_df_201to400 = joblib.load('results/simu_df_201to400')\n",
    "simu_df_201to400"
   ]
  },
  {
   "cell_type": "code",
   "execution_count": 31,
   "metadata": {},
   "outputs": [],
   "source": [
    "simu_df_all = pd.concat([simu_df_1to30, simu_df_31to200, simu_df_201to400], ignore_index=True)\n",
    "simu_df_all\n",
    "simu_df_all.to_excel(\"simu_df_all.xlsx\")  "
   ]
  }
 ],
 "metadata": {
  "colab": {
   "provenance": []
  },
  "kernelspec": {
   "display_name": "Python 3 (ipykernel)",
   "language": "python",
   "name": "python3"
  },
  "language_info": {
   "codemirror_mode": {
    "name": "ipython",
    "version": 3
   },
   "file_extension": ".py",
   "mimetype": "text/x-python",
   "name": "python",
   "nbconvert_exporter": "python",
   "pygments_lexer": "ipython3",
   "version": "3.9.18"
  }
 },
 "nbformat": 4,
 "nbformat_minor": 4
}
